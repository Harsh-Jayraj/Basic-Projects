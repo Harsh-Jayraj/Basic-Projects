{
 "cells": [
  {
   "cell_type": "code",
   "execution_count": 11,
   "metadata": {},
   "outputs": [],
   "source": [
    "import random as r\n",
    "import pyttsx3"
   ]
  },
  {
   "cell_type": "code",
   "execution_count": 27,
   "metadata": {},
   "outputs": [
    {
     "name": "stdout",
     "output_type": "stream",
     "text": [
      "Enter Number Of Dice You Want To Simulate\n",
      "2\n",
      "Your roll is\n",
      "2\n",
      "4\n"
     ]
    }
   ],
   "source": [
    "print(\"Enter Number Of Dice You Want To Simulate\")\n",
    "engine = pyttsx3.init()\n",
    "engine.getProperty('rate')\n",
    "engine.setProperty('rate',100)\n",
    "no_of_dice=int(input())\n",
    "face_value=[1,2,3,4,5,6]\n",
    "print(\"Your roll is\")\n",
    "for i in range(0,no_of_dice):\n",
    "    roll= r.randrange(1,7)\n",
    "    engine.setProperty('rate',220)\n",
    "    engine.say(\"o o o oo oo oo\")\n",
    "    engine.setProperty('rate',160)\n",
    "    engine.say(\"It's a \"+str(roll))\n",
    "    print(roll)\n",
    "    engine.runAndWait()"
   ]
  },
  {
   "cell_type": "code",
   "execution_count": null,
   "metadata": {},
   "outputs": [],
   "source": []
  }
 ],
 "metadata": {
  "kernelspec": {
   "display_name": "Python 3",
   "language": "python",
   "name": "python3"
  },
  "language_info": {
   "codemirror_mode": {
    "name": "ipython",
    "version": 3
   },
   "file_extension": ".py",
   "mimetype": "text/x-python",
   "name": "python",
   "nbconvert_exporter": "python",
   "pygments_lexer": "ipython3",
   "version": "3.8.3"
  }
 },
 "nbformat": 4,
 "nbformat_minor": 4
}
