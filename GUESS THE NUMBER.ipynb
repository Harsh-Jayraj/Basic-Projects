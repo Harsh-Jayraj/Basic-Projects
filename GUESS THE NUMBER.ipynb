{
 "cells": [
  {
   "cell_type": "code",
   "execution_count": 1,
   "metadata": {},
   "outputs": [],
   "source": [
    "import random as r"
   ]
  },
  {
   "cell_type": "code",
   "execution_count": 5,
   "metadata": {},
   "outputs": [],
   "source": [
    "random_number=r.randrange(1,100)\n",
    "prime_numbers=[1,2]\n",
    "count=0\n",
    "for i in range(3,100):\n",
    "    for j in range(2,i):\n",
    "        if i%j==0:\n",
    "            count+=1\n",
    "    if count==1:\n",
    "        prime_numbers.append(i)\n",
    "        \n",
    "#setting upper and lower boundary of the random number\n",
    "lower_boundary=(random_number//10)*10\n",
    "upper_boundary=((random_number//10)*10)+20"
   ]
  },
  {
   "cell_type": "code",
   "execution_count": 6,
   "metadata": {},
   "outputs": [],
   "source": [
    "#---THE HINTS FUNCTION---#\n",
    "\n",
    "def hints(random_number):\n",
    "    print(\"HINTS\")\n",
    "    \n",
    "    #Checks wheteher even number or odd\n",
    "    if random_number%2==0:\n",
    "        print(\"I am EVEN\")\n",
    "    elif random_number%2!=0:\n",
    "        print(\"I am ODD\")\n",
    "        #Checks whethere prime number or not#\n",
    "        if random_number in prime_numbers:\n",
    "            print(\"I am a Prime number\")\n",
    "        else:\n",
    "            print(\"I am not a Prime number\")\n",
    "    \n",
    "    \n",
    "    \n",
    "    #returns the upper and lower boundary nearest to 10\n",
    "    \n",
    "    if random_number%10==0:\n",
    "        print(\"I am of TEN's Family\")\n",
    "    \n",
    "    else:\n",
    "        print(\"I lie between \",lower_boundary,\" and \",upper_boundary)\n",
    "        \n",
    "    #returns sum of digits\n",
    "    sum_of_digits=(random_number%10)+(random_number//10)\n",
    "    print('Thw Sum of digits is ',sum_of_digits)"
   ]
  },
  {
   "cell_type": "code",
   "execution_count": 7,
   "metadata": {},
   "outputs": [
    {
     "name": "stdout",
     "output_type": "stream",
     "text": [
      "I am a random number between 1 and 100\n",
      "HINTS\n",
      "I am ODD\n",
      "I am not a Prime number\n",
      "I lie between  10  and  30\n",
      "Thw Sum of digits is  4\n",
      "ENTER YOUR GUESS\n",
      "13\n",
      "YOU GUESSED ME RIGHT\n"
     ]
    }
   ],
   "source": [
    "#GUESSING CODE\n",
    "print(\"I am a random number between 1 and 100\")\n",
    "hints(random_number)\n",
    "print(\"ENTER YOUR GUESS\")\n",
    "\n",
    "for i in range(0,2):\n",
    "    guess=int(input())\n",
    "\n",
    "    if guess==random_number:\n",
    "        print(\"YOU GUESSED ME RIGHT\")\n",
    "        break\n",
    "    else:\n",
    "        print(\"YOU GUESSED ME WRONG\")\n",
    "        if i==0:\n",
    "            print(\"TRY AGAIN\")\n",
    "            "
   ]
  },
  {
   "cell_type": "code",
   "execution_count": null,
   "metadata": {},
   "outputs": [],
   "source": []
  }
 ],
 "metadata": {
  "kernelspec": {
   "display_name": "Python 3",
   "language": "python",
   "name": "python3"
  },
  "language_info": {
   "codemirror_mode": {
    "name": "ipython",
    "version": 3
   },
   "file_extension": ".py",
   "mimetype": "text/x-python",
   "name": "python",
   "nbconvert_exporter": "python",
   "pygments_lexer": "ipython3",
   "version": "3.8.3"
  }
 },
 "nbformat": 4,
 "nbformat_minor": 4
}
